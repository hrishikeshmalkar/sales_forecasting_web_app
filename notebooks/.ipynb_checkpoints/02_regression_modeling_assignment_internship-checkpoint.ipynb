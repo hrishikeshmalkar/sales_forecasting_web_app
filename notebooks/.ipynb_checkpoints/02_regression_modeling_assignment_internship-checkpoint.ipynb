{
 "cells": [
  {
   "cell_type": "code",
   "execution_count": 1,
   "metadata": {},
   "outputs": [
    {
     "name": "stderr",
     "output_type": "stream",
     "text": [
      "C:\\Users\\HRISHIKESH\\Anaconda3\\lib\\site-packages\\statsmodels\\tools\\_testing.py:19: FutureWarning: pandas.util.testing is deprecated. Use the functions in the public API at pandas.testing instead.\n",
      "  import pandas.util.testing as tm\n"
     ]
    }
   ],
   "source": [
    "import pandas as pd\n",
    "import numpy as np\n",
    "\n",
    "import matplotlib.pyplot as plt\n",
    "import seaborn as sns\n",
    "\n",
    "from sklearn.preprocessing import MinMaxScaler\n",
    "from sklearn.linear_model import LinearRegression\n",
    "from sklearn.metrics import mean_squared_error, mean_absolute_error, r2_score\n",
    "from sklearn.ensemble import RandomForestRegressor\n",
    "from xgboost.sklearn import XGBRegressor"
   ]
  },
  {
   "cell_type": "code",
   "execution_count": 2,
   "metadata": {},
   "outputs": [],
   "source": [
    "# Loading data"
   ]
  },
  {
   "cell_type": "code",
   "execution_count": 3,
   "metadata": {},
   "outputs": [],
   "source": [
    "model_df = pd.read_csv('../data/model_df.csv')"
   ]
  },
  {
   "cell_type": "code",
   "execution_count": 4,
   "metadata": {},
   "outputs": [],
   "source": [
    "#train test split"
   ]
  },
  {
   "cell_type": "code",
   "execution_count": 142,
   "metadata": {},
   "outputs": [],
   "source": [
    "def train_test_split(data):\n",
    "    data = data.drop(['sales','date'],axis=1)\n",
    "    train, test = data[0:-8].values, data[-8:].values\n",
    "    \n",
    "    return train, test\n",
    "\n",
    "train, test = train_test_split(model_df)"
   ]
  },
  {
   "cell_type": "code",
   "execution_count": 143,
   "metadata": {},
   "outputs": [
    {
     "name": "stdout",
     "output_type": "stream",
     "text": [
      "Train Shape : (19, 13)\n",
      " \n",
      "Test Shape : (8, 13)\n"
     ]
    }
   ],
   "source": [
    "print('Train Shape :',train.shape)\n",
    "print(\" \")\n",
    "print('Test Shape :',test.shape)"
   ]
  },
  {
   "cell_type": "code",
   "execution_count": 144,
   "metadata": {},
   "outputs": [],
   "source": [
    "def scale_data(train_set, test_set):\n",
    "    #apply Min Max Scaler\n",
    "    scaler = MinMaxScaler(feature_range=(-1, 1))\n",
    "    scaler = scaler.fit(train_set)\n",
    "    \n",
    "    # reshape training set\n",
    "    train_set = train_set.reshape(train_set.shape[0], train_set.shape[1])\n",
    "    train_set_scaled = scaler.transform(train_set)\n",
    "    \n",
    "    # reshape test set\n",
    "    test_set = test_set.reshape(test_set.shape[0], test_set.shape[1])\n",
    "    test_set_scaled = scaler.transform(test_set)\n",
    "    \n",
    "    X_train, y_train = train_set_scaled[:, 1:], train_set_scaled[:, 0:1].ravel()\n",
    "    X_test, y_test = test_set_scaled[:, 1:], test_set_scaled[:, 0:1].ravel()\n",
    "    \n",
    "    return X_train, y_train, X_test, y_test, scaler\n",
    "\n",
    "X_train, y_train, X_test, y_test, scaler_object = scale_data(train, test)"
   ]
  },
  {
   "cell_type": "code",
   "execution_count": 145,
   "metadata": {},
   "outputs": [
    {
     "name": "stdout",
     "output_type": "stream",
     "text": [
      "(19, 12)\n",
      " \n",
      "(19,)\n",
      " \n",
      "(8, 12)\n",
      " \n",
      "(8,)\n"
     ]
    }
   ],
   "source": [
    "#Shapes\n",
    "print(X_train.shape)\n",
    "print(' ')\n",
    "print(y_train.shape)\n",
    "print(' ')\n",
    "print(X_test.shape)\n",
    "print(' ')\n",
    "print(y_test.shape)"
   ]
  },
  {
   "cell_type": "code",
   "execution_count": 146,
   "metadata": {},
   "outputs": [],
   "source": [
    "# Modeling Functions"
   ]
  },
  {
   "cell_type": "code",
   "execution_count": 147,
   "metadata": {},
   "outputs": [],
   "source": [
    "def undo_scaling(y_pred, x_test, scaler_obj, lstm=False):  \n",
    "    #reshape y_pred\n",
    "    y_pred = y_pred.reshape(y_pred.shape[0], 1, 1)\n",
    "    \n",
    "    if not lstm:\n",
    "        x_test = x_test.reshape(x_test.shape[0], 1, x_test.shape[1])\n",
    "    \n",
    "    #rebuild test set for inverse transform\n",
    "    pred_test_set = []\n",
    "    for index in range(0,len(y_pred)):\n",
    "        pred_test_set.append(np.concatenate([y_pred[index],x_test[index]],axis=1))\n",
    "        \n",
    "    #reshape pred_test_set\n",
    "    pred_test_set = np.array(pred_test_set)\n",
    "    pred_test_set = pred_test_set.reshape(pred_test_set.shape[0], pred_test_set.shape[2])\n",
    "    \n",
    "    #inverse transform\n",
    "    pred_test_set_inverted = scaler_obj.inverse_transform(pred_test_set)\n",
    "    \n",
    "    return pred_test_set_inverted"
   ]
  },
  {
   "cell_type": "code",
   "execution_count": 148,
   "metadata": {},
   "outputs": [],
   "source": [
    "\n",
    "def load_original_df():\n",
    "    #load in original dataframe without scaling applied\n",
    "    original_df = pd.read_excel(r'../data/BQ-Assignment-Data-Analytics.xlsx') \n",
    "    original_df.rename(columns=lambda x: x.replace(' ', '_'),inplace=True)\n",
    "    original_df.columns= original_df.columns.str.lower()\n",
    "    original_df.date = original_df.date.apply(lambda x: str(x)[:-4])\n",
    "    original_df=original_df[['date','sales']]\n",
    "    original_df.date = pd.to_datetime(original_df.date)\n",
    "    return original_df"
   ]
  },
  {
   "cell_type": "code",
   "execution_count": 149,
   "metadata": {},
   "outputs": [
    {
     "data": {
      "text/plain": [
       "[Timestamp('2020-03-01 00:00:00'),\n",
       " Timestamp('2020-04-01 00:00:00'),\n",
       " Timestamp('2020-05-01 00:00:00'),\n",
       " Timestamp('2020-01-01 00:00:00'),\n",
       " Timestamp('2020-02-01 00:00:00'),\n",
       " Timestamp('2020-03-01 00:00:00'),\n",
       " Timestamp('2020-04-01 00:00:00'),\n",
       " Timestamp('2020-05-01 00:00:00'),\n",
       " Timestamp('2020-01-01 00:00:00'),\n",
       " Timestamp('2020-02-01 00:00:00'),\n",
       " Timestamp('2020-03-01 00:00:00'),\n",
       " Timestamp('2020-04-01 00:00:00'),\n",
       " Timestamp('2020-05-01 00:00:00')]"
      ]
     },
     "execution_count": 149,
     "metadata": {},
     "output_type": "execute_result"
    }
   ],
   "source": [
    "original_df=load_original_df()\n",
    "list(original_df[-13:].date)"
   ]
  },
  {
   "cell_type": "code",
   "execution_count": 150,
   "metadata": {},
   "outputs": [],
   "source": [
    "def predict_df(unscaled_predictions, original_df):\n",
    "    #create dataframe that shows the predicted sales\n",
    "    result_list = []\n",
    "    sales_dates = list(original_df[-13:].date)\n",
    "    act_sales = list(original_df[-13:].sales)\n",
    "    \n",
    "    for index in range(0,len(unscaled_predictions)):\n",
    "        result_dict = {}\n",
    "        result_dict['pred_value'] = int(unscaled_predictions[index][0] + act_sales[index])\n",
    "        result_dict['date'] = sales_dates[index+1]\n",
    "        result_list.append(result_dict)\n",
    "        \n",
    "    df_result = pd.DataFrame(result_list)\n",
    "    \n",
    "    return df_result"
   ]
  },
  {
   "cell_type": "code",
   "execution_count": 151,
   "metadata": {},
   "outputs": [],
   "source": [
    "model_scores = {}\n",
    "\n",
    "def get_scores(unscaled_df, original_df, model_name):\n",
    "    rmse = np.sqrt(mean_squared_error(original_df.sales[-8:], unscaled_df.pred_value[-8:]))\n",
    "    mae = mean_absolute_error(original_df.sales[-8:], unscaled_df.pred_value[-8:])\n",
    "    r2 = r2_score(original_df.sales[-8:], unscaled_df.pred_value[-8:])\n",
    "    model_scores[model_name] = [rmse, mae, r2]\n",
    "\n",
    "    print(f\"RMSE: {rmse}\")\n",
    "    print(f\"MAE: {mae}\")\n",
    "    print(f\"R2 Score: {r2}\")"
   ]
  },
  {
   "cell_type": "code",
   "execution_count": 152,
   "metadata": {},
   "outputs": [],
   "source": [
    "def plot_results(results, original_df, model_name):\n",
    "\n",
    "    fig, ax = plt.subplots(figsize=(15,5))\n",
    "    sns.lineplot(original_df.date, original_df.sales, data=original_df, ax=ax, \n",
    "                 label='Original', color='mediumblue')\n",
    "    sns.lineplot(results.date, results.pred_value, data=results, ax=ax, \n",
    "                 label='Predicted', color='Red')\n",
    "    \n",
    "    ax.set(xlabel = \"Date\",\n",
    "           ylabel = \"Sales\",\n",
    "           title = f\"{model_name} Sales Forecasting Prediction\")\n",
    "    \n",
    "    ax.legend()\n",
    "    \n",
    "    sns.despine()\n",
    "    \n",
    "    plt.savefig(f'../model_output/{model_name}_forecast.png')"
   ]
  },
  {
   "cell_type": "code",
   "execution_count": 153,
   "metadata": {},
   "outputs": [],
   "source": [
    "def run_model(train_data, test_data, model, model_name):\n",
    "    \n",
    "    X_train, y_train, X_test, y_test, scaler_object = scale_data(train_data, test_data)\n",
    "    \n",
    "    mod = model\n",
    "    mod.fit(X_train, y_train)\n",
    "    predictions = mod.predict(X_test)\n",
    "    \n",
    "    # Undo scaling to compare predictions against original data\n",
    "    original_df = load_original_df()\n",
    "    unscaled = undo_scaling(predictions, X_test, scaler_object)\n",
    "    unscaled_df = predict_df(unscaled, original_df)\n",
    "      \n",
    "    get_scores(unscaled_df, original_df, model_name)\n",
    "    \n",
    "    plot_results(unscaled_df, original_df, model_name)"
   ]
  },
  {
   "cell_type": "code",
   "execution_count": 154,
   "metadata": {},
   "outputs": [
    {
     "name": "stdout",
     "output_type": "stream",
     "text": [
      "RMSE: 235.50690011122816\n",
      "MAE: 188.0\n",
      "R2 Score: -453.677084667606\n"
     ]
    },
    {
     "data": {
      "image/png": "[encoded data removed]",
      "text/plain": [
       "<Figure size 1080x360 with 1 Axes>"
      ]
     },
     "metadata": {
      "needs_background": "light"
     },
     "output_type": "display_data"
    }
   ],
   "source": [
    "run_model(train, test, LinearRegression(), 'LinearRegression')"
   ]
  },
  {
   "cell_type": "code",
   "execution_count": 155,
   "metadata": {},
   "outputs": [],
   "source": [
    "# random Forest regressor"
   ]
  },
  {
   "cell_type": "code",
   "execution_count": 156,
   "metadata": {},
   "outputs": [
    {
     "name": "stdout",
     "output_type": "stream",
     "text": [
      "RMSE: 28.772817032748115\n",
      "MAE: 25.375\n",
      "R2 Score: -5.786729857819905\n"
     ]
    },
    {
     "data": {
      "image/png": "[encoded data removed]",
      "text/plain": [
       "<Figure size 1080x360 with 1 Axes>"
      ]
     },
     "metadata": {
      "needs_background": "light"
     },
     "output_type": "display_data"
    }
   ],
   "source": [
    "run_model(train, test, RandomForestRegressor(n_estimators=100, max_depth=20), 'RandomForest')"
   ]
  },
  {
   "cell_type": "code",
   "execution_count": 157,
   "metadata": {},
   "outputs": [],
   "source": [
    "#XGBoost"
   ]
  },
  {
   "cell_type": "code",
   "execution_count": 158,
   "metadata": {},
   "outputs": [
    {
     "name": "stdout",
     "output_type": "stream",
     "text": [
      "RMSE: 45.64263357870578\n",
      "MAE: 35.25\n",
      "R2 Score: -16.078006916869477\n"
     ]
    },
    {
     "data": {
      "image/png": "[encoded data removed]",
      "text/plain": [
       "<Figure size 1080x360 with 1 Axes>"
      ]
     },
     "metadata": {
      "needs_background": "light"
     },
     "output_type": "display_data"
    }
   ],
   "source": [
    "run_model(train, test, XGBRegressor(n_estimators=100, learning_rate=0.2, objective='reg:squarederror'), 'XGBoost')"
   ]
  },
  {
   "cell_type": "code",
   "execution_count": 159,
   "metadata": {},
   "outputs": [],
   "source": [
    "#LSTM"
   ]
  },
  {
   "cell_type": "code",
   "execution_count": 160,
   "metadata": {},
   "outputs": [
    {
     "name": "stderr",
     "output_type": "stream",
     "text": [
      "Using TensorFlow backend.\n"
     ]
    }
   ],
   "source": [
    "import keras\n",
    "from keras.layers import Dense\n",
    "from keras.models import Sequential\n",
    "from keras.optimizers import Adam \n",
    "from keras.callbacks import EarlyStopping\n",
    "from keras.utils import np_utils\n",
    "from keras.layers import LSTM\n",
    "from sklearn.model_selection import KFold, cross_val_score, train_test_split\n",
    "\n",
    "import pickle"
   ]
  },
  {
   "cell_type": "code",
   "execution_count": 169,
   "metadata": {},
   "outputs": [],
   "source": [
    "def lstm_model(train_data, test_data):\n",
    "    \n",
    "    X_train, y_train, X_test, y_test, scaler_object = scale_data(train_data, test_data)\n",
    "    \n",
    "    X_train = X_train.reshape(X_train.shape[0], 1, X_train.shape[1])\n",
    "    X_test = X_test.reshape(X_test.shape[0], 1, X_test.shape[1])\n",
    "   \n",
    "    model = Sequential()\n",
    "    model.add(LSTM(4, batch_input_shape=(1, X_train.shape[1], X_train.shape[2]), \n",
    "                   stateful=True))\n",
    "    model.add(Dense(1))\n",
    "    model.add(Dense(1))\n",
    "    model.compile(loss='mean_squared_error', optimizer='adam')\n",
    "    model.fit(X_train, y_train, epochs=200, batch_size=1, verbose=1, \n",
    "              shuffle=False)\n",
    "    predictions = model.predict(X_test,batch_size=1)\n",
    "    \n",
    "    original_df = load_original_df()\n",
    "    unscaled = undo_scaling(predictions, X_test, scaler_object, lstm=True)\n",
    "    unscaled_df = predict_df(unscaled, original_df)\n",
    "    \n",
    "    get_scores(unscaled_df, original_df, 'LSTM')\n",
    "    \n",
    "    plot_results(unscaled_df, original_df, 'LSTM')"
   ]
  },
  {
   "cell_type": "code",
   "execution_count": 170,
   "metadata": {},
   "outputs": [
    {
     "name": "stdout",
     "output_type": "stream",
     "text": [
      "Epoch 1/200\n",
      "19/19 [==============================] - 1s 38ms/step - loss: 0.1745\n",
      "Epoch 2/200\n",
      "19/19 [==============================] - 0s 2ms/step - loss: 0.1553\n",
      "Epoch 3/200\n",
      "19/19 [==============================] - 0s 2ms/step - loss: 0.1494\n",
      "Epoch 4/200\n",
      "19/19 [==============================] - 0s 2ms/step - loss: 0.1463\n",
      "Epoch 5/200\n",
      "19/19 [==============================] - 0s 2ms/step - loss: 0.1443\n",
      "Epoch 6/200\n",
      "19/19 [==============================] - 0s 2ms/step - loss: 0.1428\n",
      "Epoch 7/200\n",
      "19/19 [==============================] - 0s 2ms/step - loss: 0.1415\n",
      "Epoch 8/200\n",
      "19/19 [==============================] - 0s 2ms/step - loss: 0.1402\n",
      "Epoch 9/200\n",
      "19/19 [==============================] - 0s 2ms/step - loss: 0.1391\n",
      "Epoch 10/200\n",
      "19/19 [==============================] - 0s 2ms/step - loss: 0.1380\n",
      "Epoch 11/200\n",
      "19/19 [==============================] - 0s 2ms/step - loss: 0.1369\n",
      "Epoch 12/200\n",
      "19/19 [==============================] - 0s 2ms/step - loss: 0.1359\n",
      "Epoch 13/200\n",
      "19/19 [==============================] - 0s 2ms/step - loss: 0.1349\n",
      "Epoch 14/200\n",
      "19/19 [==============================] - 0s 2ms/step - loss: 0.1339\n",
      "Epoch 15/200\n",
      "19/19 [==============================] - 0s 2ms/step - loss: 0.1330\n",
      "Epoch 16/200\n",
      "19/19 [==============================] - 0s 2ms/step - loss: 0.1320\n",
      "Epoch 17/200\n",
      "19/19 [==============================] - 0s 2ms/step - loss: 0.1311\n",
      "Epoch 18/200\n",
      "19/19 [==============================] - 0s 2ms/step - loss: 0.1303\n",
      "Epoch 19/200\n",
      "19/19 [==============================] - 0s 2ms/step - loss: 0.1294\n",
      "Epoch 20/200\n",
      "19/19 [==============================] - 0s 2ms/step - loss: 0.1286\n",
      "Epoch 21/200\n",
      "19/19 [==============================] - 0s 2ms/step - loss: 0.1278\n",
      "Epoch 22/200\n",
      "19/19 [==============================] - 0s 2ms/step - loss: 0.1270\n",
      "Epoch 23/200\n",
      "19/19 [==============================] - 0s 2ms/step - loss: 0.1262\n",
      "Epoch 24/200\n",
      "19/19 [==============================] - 0s 2ms/step - loss: 0.1255\n",
      "Epoch 25/200\n",
      "19/19 [==============================] - 0s 2ms/step - loss: 0.1247\n",
      "Epoch 26/200\n",
      "19/19 [==============================] - 0s 2ms/step - loss: 0.1240\n",
      "Epoch 27/200\n",
      "19/19 [==============================] - 0s 2ms/step - loss: 0.1233\n",
      "Epoch 28/200\n",
      "19/19 [==============================] - 0s 2ms/step - loss: 0.1226\n",
      "Epoch 29/200\n",
      "19/19 [==============================] - 0s 2ms/step - loss: 0.1219\n",
      "Epoch 30/200\n",
      "19/19 [==============================] - 0s 2ms/step - loss: 0.1213\n",
      "Epoch 31/200\n",
      "19/19 [==============================] - 0s 2ms/step - loss: 0.1206\n",
      "Epoch 32/200\n",
      "19/19 [==============================] - 0s 2ms/step - loss: 0.1200\n",
      "Epoch 33/200\n",
      "19/19 [==============================] - 0s 2ms/step - loss: 0.1194\n",
      "Epoch 34/200\n",
      "19/19 [==============================] - 0s 2ms/step - loss: 0.1187\n",
      "Epoch 35/200\n",
      "19/19 [==============================] - 0s 2ms/step - loss: 0.1181\n",
      "Epoch 36/200\n",
      "19/19 [==============================] - 0s 2ms/step - loss: 0.1175\n",
      "Epoch 37/200\n",
      "19/19 [==============================] - 0s 2ms/step - loss: 0.1169\n",
      "Epoch 38/200\n",
      "19/19 [==============================] - 0s 2ms/step - loss: 0.1164\n",
      "Epoch 39/200\n",
      "19/19 [==============================] - 0s 2ms/step - loss: 0.1158\n",
      "Epoch 40/200\n",
      "19/19 [==============================] - 0s 2ms/step - loss: 0.1152\n",
      "Epoch 41/200\n",
      "19/19 [==============================] - 0s 2ms/step - loss: 0.1147\n",
      "Epoch 42/200\n",
      "19/19 [==============================] - 0s 2ms/step - loss: 0.1141\n",
      "Epoch 43/200\n",
      "19/19 [==============================] - 0s 2ms/step - loss: 0.1136\n",
      "Epoch 44/200\n",
      "19/19 [==============================] - 0s 2ms/step - loss: 0.1131\n",
      "Epoch 45/200\n",
      "19/19 [==============================] - 0s 2ms/step - loss: 0.1126\n",
      "Epoch 46/200\n",
      "19/19 [==============================] - 0s 2ms/step - loss: 0.1120\n",
      "Epoch 47/200\n",
      "19/19 [==============================] - 0s 2ms/step - loss: 0.1115\n",
      "Epoch 48/200\n",
      "19/19 [==============================] - 0s 2ms/step - loss: 0.1110\n",
      "Epoch 49/200\n",
      "19/19 [==============================] - 0s 2ms/step - loss: 0.1106\n",
      "Epoch 50/200\n",
      "19/19 [==============================] - 0s 2ms/step - loss: 0.1101\n",
      "Epoch 51/200\n",
      "19/19 [==============================] - 0s 2ms/step - loss: 0.1096\n",
      "Epoch 52/200\n",
      "19/19 [==============================] - 0s 2ms/step - loss: 0.1091\n",
      "Epoch 53/200\n",
      "19/19 [==============================] - 0s 2ms/step - loss: 0.1087\n",
      "Epoch 54/200\n",
      "19/19 [==============================] - 0s 2ms/step - loss: 0.1082\n",
      "Epoch 55/200\n",
      "19/19 [==============================] - 0s 2ms/step - loss: 0.1078\n",
      "Epoch 56/200\n",
      "19/19 [==============================] - 0s 2ms/step - loss: 0.1073\n",
      "Epoch 57/200\n",
      "19/19 [==============================] - 0s 2ms/step - loss: 0.1069\n",
      "Epoch 58/200\n",
      "19/19 [==============================] - 0s 2ms/step - loss: 0.1064\n",
      "Epoch 59/200\n",
      "19/19 [==============================] - 0s 2ms/step - loss: 0.1060\n",
      "Epoch 60/200\n",
      "19/19 [==============================] - 0s 2ms/step - loss: 0.1056\n",
      "Epoch 61/200\n",
      "19/19 [==============================] - 0s 2ms/step - loss: 0.1052\n",
      "Epoch 62/200\n",
      "19/19 [==============================] - 0s 2ms/step - loss: 0.1048\n",
      "Epoch 63/200\n",
      "19/19 [==============================] - 0s 2ms/step - loss: 0.1044\n",
      "Epoch 64/200\n",
      "19/19 [==============================] - 0s 2ms/step - loss: 0.1039\n",
      "Epoch 65/200\n",
      "19/19 [==============================] - 0s 2ms/step - loss: 0.1035\n",
      "Epoch 66/200\n",
      "19/19 [==============================] - 0s 2ms/step - loss: 0.1031\n",
      "Epoch 67/200\n",
      "19/19 [==============================] - 0s 2ms/step - loss: 0.1028\n",
      "Epoch 68/200\n",
      "19/19 [==============================] - 0s 2ms/step - loss: 0.1024\n",
      "Epoch 69/200\n",
      "19/19 [==============================] - 0s 2ms/step - loss: 0.1020\n",
      "Epoch 70/200\n",
      "19/19 [==============================] - 0s 2ms/step - loss: 0.1016\n",
      "Epoch 71/200\n",
      "19/19 [==============================] - 0s 2ms/step - loss: 0.1012\n",
      "Epoch 72/200\n",
      "19/19 [==============================] - 0s 2ms/step - loss: 0.1008\n",
      "Epoch 73/200\n",
      "19/19 [==============================] - 0s 2ms/step - loss: 0.1004\n",
      "Epoch 74/200\n",
      "19/19 [==============================] - 0s 2ms/step - loss: 0.1001\n",
      "Epoch 75/200\n",
      "19/19 [==============================] - 0s 2ms/step - loss: 0.0997\n",
      "Epoch 76/200\n",
      "19/19 [==============================] - 0s 2ms/step - loss: 0.0993\n",
      "Epoch 77/200\n",
      "19/19 [==============================] - 0s 2ms/step - loss: 0.0990\n",
      "Epoch 78/200\n",
      "19/19 [==============================] - 0s 2ms/step - loss: 0.0986\n",
      "Epoch 79/200\n",
      "19/19 [==============================] - 0s 2ms/step - loss: 0.0982\n",
      "Epoch 80/200\n",
      "19/19 [==============================] - 0s 2ms/step - loss: 0.0979\n",
      "Epoch 81/200\n",
      "19/19 [==============================] - 0s 2ms/step - loss: 0.0975\n",
      "Epoch 82/200\n",
      "19/19 [==============================] - 0s 2ms/step - loss: 0.0971\n",
      "Epoch 83/200\n",
      "19/19 [==============================] - 0s 2ms/step - loss: 0.0968\n",
      "Epoch 84/200\n",
      "19/19 [==============================] - 0s 2ms/step - loss: 0.0964\n",
      "Epoch 85/200\n",
      "19/19 [==============================] - 0s 2ms/step - loss: 0.0960\n",
      "Epoch 86/200\n",
      "19/19 [==============================] - 0s 2ms/step - loss: 0.0957\n",
      "Epoch 87/200\n",
      "19/19 [==============================] - 0s 2ms/step - loss: 0.0953\n",
      "Epoch 88/200\n",
      "19/19 [==============================] - 0s 2ms/step - loss: 0.0950\n",
      "Epoch 89/200\n",
      "19/19 [==============================] - 0s 2ms/step - loss: 0.0946\n",
      "Epoch 90/200\n",
      "19/19 [==============================] - 0s 3ms/step - loss: 0.0943\n",
      "Epoch 91/200\n",
      "19/19 [==============================] - 0s 3ms/step - loss: 0.0939\n",
      "Epoch 92/200\n",
      "19/19 [==============================] - 0s 4ms/step - loss: 0.0936\n",
      "Epoch 93/200\n",
      "19/19 [==============================] - 0s 3ms/step - loss: 0.0932\n",
      "Epoch 94/200\n",
      "19/19 [==============================] - 0s 2ms/step - loss: 0.0929\n",
      "Epoch 95/200\n",
      "19/19 [==============================] - 0s 3ms/step - loss: 0.0925\n",
      "Epoch 96/200\n",
      "19/19 [==============================] - 0s 3ms/step - loss: 0.0922\n",
      "Epoch 97/200\n",
      "19/19 [==============================] - 0s 2ms/step - loss: 0.0918\n",
      "Epoch 98/200\n",
      "19/19 [==============================] - 0s 3ms/step - loss: 0.0915\n",
      "Epoch 99/200\n",
      "19/19 [==============================] - 0s 3ms/step - loss: 0.0911\n",
      "Epoch 100/200\n",
      "19/19 [==============================] - 0s 2ms/step - loss: 0.0908\n",
      "Epoch 101/200\n",
      "19/19 [==============================] - 0s 3ms/step - loss: 0.0905\n",
      "Epoch 102/200\n"
     ]
    },
    {
     "name": "stdout",
     "output_type": "stream",
     "text": [
      "19/19 [==============================] - 0s 2ms/step - loss: 0.0901\n",
      "Epoch 103/200\n",
      "19/19 [==============================] - 0s 2ms/step - loss: 0.0898\n",
      "Epoch 104/200\n",
      "19/19 [==============================] - 0s 3ms/step - loss: 0.0894\n",
      "Epoch 105/200\n",
      "19/19 [==============================] - 0s 2ms/step - loss: 0.0891\n",
      "Epoch 106/200\n",
      "19/19 [==============================] - 0s 3ms/step - loss: 0.0887\n",
      "Epoch 107/200\n",
      "19/19 [==============================] - 0s 2ms/step - loss: 0.0884\n",
      "Epoch 108/200\n",
      "19/19 [==============================] - 0s 3ms/step - loss: 0.0881\n",
      "Epoch 109/200\n",
      "19/19 [==============================] - 0s 2ms/step - loss: 0.0877\n",
      "Epoch 110/200\n",
      "19/19 [==============================] - 0s 2ms/step - loss: 0.0874\n",
      "Epoch 111/200\n",
      "19/19 [==============================] - 0s 3ms/step - loss: 0.0870\n",
      "Epoch 112/200\n",
      "19/19 [==============================] - 0s 3ms/step - loss: 0.0867\n",
      "Epoch 113/200\n",
      "19/19 [==============================] - 0s 2ms/step - loss: 0.0863\n",
      "Epoch 114/200\n",
      "19/19 [==============================] - 0s 2ms/step - loss: 0.0860\n",
      "Epoch 115/200\n",
      "19/19 [==============================] - 0s 3ms/step - loss: 0.0857\n",
      "Epoch 116/200\n",
      "19/19 [==============================] - 0s 2ms/step - loss: 0.0853\n",
      "Epoch 117/200\n",
      "19/19 [==============================] - 0s 2ms/step - loss: 0.0850\n",
      "Epoch 118/200\n",
      "19/19 [==============================] - 0s 2ms/step - loss: 0.0846\n",
      "Epoch 119/200\n",
      "19/19 [==============================] - 0s 2ms/step - loss: 0.0843\n",
      "Epoch 120/200\n",
      "19/19 [==============================] - 0s 3ms/step - loss: 0.0839\n",
      "Epoch 121/200\n",
      "19/19 [==============================] - 0s 2ms/step - loss: 0.0836\n",
      "Epoch 122/200\n",
      "19/19 [==============================] - 0s 3ms/step - loss: 0.0832\n",
      "Epoch 123/200\n",
      "19/19 [==============================] - 0s 2ms/step - loss: 0.0829\n",
      "Epoch 124/200\n",
      "19/19 [==============================] - 0s 2ms/step - loss: 0.0825\n",
      "Epoch 125/200\n",
      "19/19 [==============================] - 0s 2ms/step - loss: 0.0822\n",
      "Epoch 126/200\n",
      "19/19 [==============================] - 0s 3ms/step - loss: 0.0818\n",
      "Epoch 127/200\n",
      "19/19 [==============================] - 0s 3ms/step - loss: 0.0815\n",
      "Epoch 128/200\n",
      "19/19 [==============================] - 0s 4ms/step - loss: 0.0811\n",
      "Epoch 129/200\n",
      "19/19 [==============================] - 0s 3ms/step - loss: 0.0808\n",
      "Epoch 130/200\n",
      "19/19 [==============================] - 0s 3ms/step - loss: 0.0804\n",
      "Epoch 131/200\n",
      "19/19 [==============================] - 0s 2ms/step - loss: 0.0801\n",
      "Epoch 132/200\n",
      "19/19 [==============================] - 0s 3ms/step - loss: 0.0797\n",
      "Epoch 133/200\n",
      "19/19 [==============================] - 0s 3ms/step - loss: 0.0793\n",
      "Epoch 134/200\n",
      "19/19 [==============================] - 0s 3ms/step - loss: 0.0790\n",
      "Epoch 135/200\n",
      "19/19 [==============================] - 0s 3ms/step - loss: 0.0786\n",
      "Epoch 136/200\n",
      "19/19 [==============================] - 0s 3ms/step - loss: 0.0782\n",
      "Epoch 137/200\n",
      "19/19 [==============================] - 0s 3ms/step - loss: 0.0779\n",
      "Epoch 138/200\n",
      "19/19 [==============================] - 0s 3ms/step - loss: 0.0775\n",
      "Epoch 139/200\n",
      "19/19 [==============================] - 0s 3ms/step - loss: 0.0771\n",
      "Epoch 140/200\n",
      "19/19 [==============================] - 0s 3ms/step - loss: 0.0768\n",
      "Epoch 141/200\n",
      "19/19 [==============================] - 0s 3ms/step - loss: 0.0764\n",
      "Epoch 142/200\n",
      "19/19 [==============================] - 0s 3ms/step - loss: 0.0760\n",
      "Epoch 143/200\n",
      "19/19 [==============================] - 0s 3ms/step - loss: 0.0756\n",
      "Epoch 144/200\n",
      "19/19 [==============================] - 0s 3ms/step - loss: 0.0752\n",
      "Epoch 145/200\n",
      "19/19 [==============================] - 0s 3ms/step - loss: 0.0748\n",
      "Epoch 146/200\n",
      "19/19 [==============================] - 0s 3ms/step - loss: 0.0745\n",
      "Epoch 147/200\n",
      "19/19 [==============================] - 0s 3ms/step - loss: 0.0741\n",
      "Epoch 148/200\n",
      "19/19 [==============================] - 0s 3ms/step - loss: 0.0737\n",
      "Epoch 149/200\n",
      "19/19 [==============================] - 0s 3ms/step - loss: 0.0733\n",
      "Epoch 150/200\n",
      "19/19 [==============================] - 0s 3ms/step - loss: 0.0729\n",
      "Epoch 151/200\n",
      "19/19 [==============================] - 0s 3ms/step - loss: 0.0725\n",
      "Epoch 152/200\n",
      "19/19 [==============================] - 0s 3ms/step - loss: 0.0720\n",
      "Epoch 153/200\n",
      "19/19 [==============================] - 0s 3ms/step - loss: 0.0716\n",
      "Epoch 154/200\n",
      "19/19 [==============================] - 0s 3ms/step - loss: 0.0712\n",
      "Epoch 155/200\n",
      "19/19 [==============================] - 0s 3ms/step - loss: 0.0708\n",
      "Epoch 156/200\n",
      "19/19 [==============================] - 0s 2ms/step - loss: 0.0703\n",
      "Epoch 157/200\n",
      "19/19 [==============================] - 0s 3ms/step - loss: 0.0699\n",
      "Epoch 158/200\n",
      "19/19 [==============================] - 0s 3ms/step - loss: 0.0694\n",
      "Epoch 159/200\n",
      "19/19 [==============================] - 0s 3ms/step - loss: 0.0690\n",
      "Epoch 160/200\n",
      "19/19 [==============================] - 0s 4ms/step - loss: 0.0685\n",
      "Epoch 161/200\n",
      "19/19 [==============================] - 0s 3ms/step - loss: 0.0680A: 0s - loss: 0.071\n",
      "Epoch 162/200\n",
      "19/19 [==============================] - 0s 3ms/step - loss: 0.0675\n",
      "Epoch 163/200\n",
      "19/19 [==============================] - 0s 3ms/step - loss: 0.0670\n",
      "Epoch 164/200\n",
      "19/19 [==============================] - 0s 2ms/step - loss: 0.0665\n",
      "Epoch 165/200\n",
      "19/19 [==============================] - 0s 2ms/step - loss: 0.0660\n",
      "Epoch 166/200\n",
      "19/19 [==============================] - 0s 3ms/step - loss: 0.0655\n",
      "Epoch 167/200\n",
      "19/19 [==============================] - 0s 3ms/step - loss: 0.0650\n",
      "Epoch 168/200\n",
      "19/19 [==============================] - 0s 2ms/step - loss: 0.0645\n",
      "Epoch 169/200\n",
      "19/19 [==============================] - 0s 3ms/step - loss: 0.0640\n",
      "Epoch 170/200\n",
      "19/19 [==============================] - 0s 2ms/step - loss: 0.0635\n",
      "Epoch 171/200\n",
      "19/19 [==============================] - 0s 2ms/step - loss: 0.0630\n",
      "Epoch 172/200\n",
      "19/19 [==============================] - 0s 2ms/step - loss: 0.0625\n",
      "Epoch 173/200\n",
      "19/19 [==============================] - 0s 2ms/step - loss: 0.0620\n",
      "Epoch 174/200\n",
      "19/19 [==============================] - 0s 3ms/step - loss: 0.0615\n",
      "Epoch 175/200\n",
      "19/19 [==============================] - 0s 3ms/step - loss: 0.0610\n",
      "Epoch 176/200\n",
      "19/19 [==============================] - 0s 4ms/step - loss: 0.0606\n",
      "Epoch 177/200\n",
      "19/19 [==============================] - 0s 4ms/step - loss: 0.0601\n",
      "Epoch 178/200\n",
      "19/19 [==============================] - 0s 3ms/step - loss: 0.0596\n",
      "Epoch 179/200\n",
      "19/19 [==============================] - 0s 3ms/step - loss: 0.0591\n",
      "Epoch 180/200\n",
      "19/19 [==============================] - 0s 4ms/step - loss: 0.0586\n",
      "Epoch 181/200\n",
      "19/19 [==============================] - 0s 3ms/step - loss: 0.0582\n",
      "Epoch 182/200\n",
      "19/19 [==============================] - 0s 2ms/step - loss: 0.0577\n",
      "Epoch 183/200\n",
      "19/19 [==============================] - 0s 2ms/step - loss: 0.0572\n",
      "Epoch 184/200\n",
      "19/19 [==============================] - 0s 3ms/step - loss: 0.0567\n",
      "Epoch 185/200\n",
      "19/19 [==============================] - 0s 3ms/step - loss: 0.0563\n",
      "Epoch 186/200\n",
      "19/19 [==============================] - 0s 3ms/step - loss: 0.0558\n",
      "Epoch 187/200\n",
      "19/19 [==============================] - 0s 3ms/step - loss: 0.0553\n",
      "Epoch 188/200\n",
      "19/19 [==============================] - 0s 3ms/step - loss: 0.0549\n",
      "Epoch 189/200\n",
      "19/19 [==============================] - 0s 2ms/step - loss: 0.0544\n",
      "Epoch 190/200\n",
      "19/19 [==============================] - 0s 3ms/step - loss: 0.0539\n",
      "Epoch 191/200\n",
      "19/19 [==============================] - 0s 3ms/step - loss: 0.0535\n",
      "Epoch 192/200\n",
      "19/19 [==============================] - 0s 3ms/step - loss: 0.0530\n",
      "Epoch 193/200\n",
      "19/19 [==============================] - 0s 3ms/step - loss: 0.0526\n",
      "Epoch 194/200\n",
      "19/19 [==============================] - 0s 2ms/step - loss: 0.0521\n",
      "Epoch 195/200\n",
      "19/19 [==============================] - 0s 3ms/step - loss: 0.0517\n",
      "Epoch 196/200\n",
      "19/19 [==============================] - 0s 3ms/step - loss: 0.0512\n",
      "Epoch 197/200\n",
      "19/19 [==============================] - 0s 4ms/step - loss: 0.0508\n",
      "Epoch 198/200\n",
      "19/19 [==============================] - 0s 4ms/step - loss: 0.0503\n",
      "Epoch 199/200\n",
      "19/19 [==============================] - 0s 2ms/step - loss: 0.0499\n",
      "Epoch 200/200\n",
      "19/19 [==============================] - 0s 2ms/step - loss: 0.0494\n",
      "RMSE: 93.18731136801834\n",
      "MAE: 75.125\n",
      "R2 Score: -70.18842064813629\n"
     ]
    },
    {
     "data": {
      "image/png": "[encoded data removed]",
      "text/plain": [
       "<Figure size 1080x360 with 1 Axes>"
      ]
     },
     "metadata": {
      "needs_background": "light"
     },
     "output_type": "display_data"
    }
   ],
   "source": [
    "lstm_model(train, test)"
   ]
  },
  {
   "cell_type": "code",
   "execution_count": 171,
   "metadata": {},
   "outputs": [],
   "source": [
    "pickle.dump(model_scores, open( \"model_scores.p\", \"wb\" ) )"
   ]
  },
  {
   "cell_type": "code",
   "execution_count": null,
   "metadata": {},
   "outputs": [],
   "source": []
  }
 ],
 "metadata": {
  "kernelspec": {
   "display_name": "Python 3",
   "language": "python",
   "name": "python3"
  },
  "language_info": {
   "codemirror_mode": {
    "name": "ipython",
    "version": 3
   },
   "file_extension": ".py",
   "mimetype": "text/x-python",
   "name": "python",
   "nbconvert_exporter": "python",
   "pygments_lexer": "ipython3",
   "version": "3.7.4"
  }
 },
 "nbformat": 4,
 "nbformat_minor": 2
}
